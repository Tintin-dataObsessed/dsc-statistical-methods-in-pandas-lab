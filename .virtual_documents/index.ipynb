








# Import pandas
import pandas as pd

# Import the 'lego_sets.csv' dataset
df = pd.read_csv('lego_sets.csv')

# Print the first five rows of DataFrame
df.head(5)





# Call the .info() method
df.info()








# Call the .describe() method
df.describe()








# Calculate the median of the star_rating column
df['star_rating'].median()





# Print the number of unique values in play_star_rating
df['play_star_rating'].value_counts()





# Calculate the standard deviation of the list_price column
df['list_price'].std()





# Total number of pieces across all unique Lego sets
df['piece_count'].unique().sum()





# Get the 90% quantile for all numerical columns
df[['piece_count', 'list_price', 'num_reviews', 'play_star_rating', 'star_rating', 'val_star_rating']].quantile(0.90)





# Print the unique values in the review_difficulty column
df['review_difficulty'].unique()





# Get the value_counts() of the review_difficulty column
df['review_difficulty'].value_counts()





# Call the .applymap() method
string_df = lambda x: str(x).applymap()

# Call the .info() method
df.info(string_df)



